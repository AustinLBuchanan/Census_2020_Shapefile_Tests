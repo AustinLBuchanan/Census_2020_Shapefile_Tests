{
 "cells": [
  {
   "cell_type": "code",
   "execution_count": 3,
   "metadata": {},
   "outputs": [],
   "source": [
    "# Download file from:\n",
    "# https://www2.census.gov/geo/tiger/TIGER2020/COUNTY/\n",
    "\n",
    "import geopandas as gpd\n",
    "\n",
    "filepath = ''\n",
    "filename = 'tl_2020_us_county.shp'\n",
    "df = gpd.read_file( filepath + filename )"
   ]
  },
  {
   "cell_type": "code",
   "execution_count": 4,
   "metadata": {},
   "outputs": [
    {
     "data": {
      "image/png": "[encoded data removed]",
      "text/plain": [
       "<Figure size 432x288 with 1 Axes>"
      ]
     },
     "metadata": {
      "needs_background": "light"
     },
     "output_type": "display_data"
    }
   ],
   "source": [
    "my_fig = df.plot().get_figure()"
   ]
  },
  {
   "cell_type": "code",
   "execution_count": 5,
   "metadata": {},
   "outputs": [
    {
     "name": "stdout",
     "output_type": "stream",
     "text": [
      "STATEFP\n",
      "COUNTYFP\n",
      "COUNTYNS\n",
      "GEOID\n",
      "NAME\n",
      "NAMELSAD\n",
      "LSAD\n",
      "CLASSFP\n",
      "MTFCC\n",
      "CSAFP\n",
      "CBSAFP\n",
      "METDIVFP\n",
      "FUNCSTAT\n",
      "ALAND\n",
      "AWATER\n",
      "INTPTLAT\n",
      "INTPTLON\n",
      "geometry\n"
     ]
    }
   ],
   "source": [
    "for col in df.columns:\n",
    "    print(col)"
   ]
  },
  {
   "cell_type": "code",
   "execution_count": 6,
   "metadata": {},
   "outputs": [
    {
     "name": "stdout",
     "output_type": "stream",
     "text": [
      "0       31039\n",
      "1       53069\n",
      "2       35011\n",
      "3       31109\n",
      "4       31129\n",
      "        ...  \n",
      "3229    13123\n",
      "3230    27135\n",
      "3231    28089\n",
      "3232    48227\n",
      "3233    54099\n",
      "Name: GEOID, Length: 3234, dtype: object\n"
     ]
    }
   ],
   "source": [
    "GEOIDs = df[\"GEOID\"]\n",
    "print(GEOIDs)"
   ]
  },
  {
   "cell_type": "code",
   "execution_count": 10,
   "metadata": {},
   "outputs": [
    {
     "name": "stdout",
     "output_type": "stream",
     "text": [
      "['40001', '40135', '40017', '40095', '40059', '40003', '40081', '40063', '40101', '40115', '40131', '40015', '40097', '40029', '40019', '40055', '40033', '40089', '40005', '40111', '40147', '40133', '40151', '40057', '40071', '40011', '40123', '40037', '40125', '40075', '40085', '40103', '40149', '40065', '40093', '40041', '40039', '40045', '40109', '40069', '40031', '40127', '40027', '40145', '40009', '40049', '40035', '40021', '40113', '40141', '40083', '40121', '40067', '40117', '40107', '40087', '40079', '40007', '40043', '40023', '40129', '40013', '40077', '40139', '40153', '40137', '40143', '40091', '40073', '40053', '40099', '40105', '40061', '40051', '40119', '40025', '40047']\n"
     ]
    }
   ],
   "source": [
    "OK_GEOIDs = list()\n",
    "for row in df.itertuples():\n",
    "    if row.STATEFP == '40':\n",
    "        OK_GEOIDs.append(row.GEOID)\n",
    "        \n",
    "print(OK_GEOIDs)"
   ]
  },
  {
   "cell_type": "code",
   "execution_count": 13,
   "metadata": {},
   "outputs": [
    {
     "data": {
      "image/png": "[encoded data removed]",
      "text/plain": [
       "<Figure size 432x288 with 1 Axes>"
      ]
     },
     "metadata": {
      "needs_background": "light"
     },
     "output_type": "display_data"
    }
   ],
   "source": [
    "is_oklahoma = list()\n",
    "for row in df.itertuples():\n",
    "    if row.STATEFP == '40':\n",
    "        is_oklahoma.append(1)\n",
    "    else:\n",
    "        is_oklahoma.append(None)\n",
    "df['is_oklahoma'] = is_oklahoma\n",
    "my_fig = df.plot(column='is_oklahoma').get_figure()"
   ]
  },
  {
   "cell_type": "code",
   "execution_count": 14,
   "metadata": {},
   "outputs": [
    {
     "name": "stdout",
     "output_type": "stream",
     "text": [
      "Adair\n",
      "Sequoyah\n",
      "Canadian\n",
      "Marshall\n",
      "Harper\n",
      "Alfalfa\n",
      "Lincoln\n",
      "Hughes\n",
      "Muskogee\n",
      "Ottawa\n",
      "Rogers\n",
      "Caddo\n",
      "Mayes\n",
      "Coal\n",
      "Carter\n",
      "Greer\n",
      "Cotton\n",
      "McCurtain\n",
      "Atoka\n",
      "Okmulgee\n",
      "Washington\n",
      "Seminole\n",
      "Woods\n",
      "Harmon\n",
      "Kay\n",
      "Blaine\n",
      "Pontotoc\n",
      "Creek\n",
      "Pottawatomie\n",
      "Kiowa\n",
      "Love\n",
      "Noble\n",
      "Washita\n",
      "Jackson\n",
      "Major\n",
      "Delaware\n",
      "Custer\n",
      "Ellis\n",
      "Oklahoma\n",
      "Johnston\n",
      "Comanche\n",
      "Pushmataha\n",
      "Cleveland\n",
      "Wagoner\n",
      "Beckham\n",
      "Garvin\n",
      "Craig\n",
      "Cherokee\n",
      "Osage\n",
      "Tillman\n",
      "Logan\n",
      "Pittsburg\n",
      "Jefferson\n",
      "Pawnee\n",
      "Okfuskee\n",
      "McClain\n",
      "Le Flore\n",
      "Beaver\n",
      "Dewey\n",
      "Choctaw\n",
      "Roger Mills\n",
      "Bryan\n",
      "Latimer\n",
      "Texas\n",
      "Woodward\n",
      "Stephens\n",
      "Tulsa\n",
      "McIntosh\n",
      "Kingfisher\n",
      "Grant\n",
      "Murray\n",
      "Nowata\n",
      "Haskell\n",
      "Grady\n",
      "Payne\n",
      "Cimarron\n",
      "Garfield\n"
     ]
    }
   ],
   "source": [
    "for row in df.itertuples():\n",
    "    if row.STATEFP == '40':\n",
    "        print(row.NAME)"
   ]
  },
  {
   "cell_type": "code",
   "execution_count": 15,
   "metadata": {},
   "outputs": [
    {
     "name": "stdout",
     "output_type": "stream",
     "text": [
      "Pandas(Index=3119, STATEFP='40', COUNTYFP='119', COUNTYNS='01101847', GEOID='40119', NAME='Payne', NAMELSAD='Payne County', LSAD='06', CLASSFP='H1', MTFCC='G4020', CSAFP=None, CBSAFP='44660', METDIVFP=None, FUNCSTAT='A', ALAND=1773885850, AWATER=31991880, INTPTLAT='+36.0792253', INTPTLON='-096.9752553', geometry=<shapely.geometry.polygon.Polygon object at 0x00000184D06860C8>, is_oklahoma=1.0)\n"
     ]
    }
   ],
   "source": [
    "for row in df.itertuples():\n",
    "    if row.STATEFP == '40' and row.NAME == 'Payne':\n",
    "        print(row)"
   ]
  },
  {
   "cell_type": "code",
   "execution_count": null,
   "metadata": {},
   "outputs": [],
   "source": []
  }
 ],
 "metadata": {
  "kernelspec": {
   "display_name": "Python 3",
   "language": "python",
   "name": "python3"
  },
  "language_info": {
   "codemirror_mode": {
    "name": "ipython",
    "version": 3
   },
   "file_extension": ".py",
   "mimetype": "text/x-python",
   "name": "python",
   "nbconvert_exporter": "python",
   "pygments_lexer": "ipython3",
   "version": "3.7.10"
  }
 },
 "nbformat": 4,
 "nbformat_minor": 4
}
